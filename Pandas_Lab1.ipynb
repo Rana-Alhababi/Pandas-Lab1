{
  "cells": [
    {
      "cell_type": "code",
      "execution_count": 21,
      "id": "d3aaed2d",
      "metadata": {
        "id": "d3aaed2d"
      },
      "outputs": [],
      "source": [
        "import pandas as pd"
      ]
    },
    {
      "cell_type": "markdown",
      "id": "c8502047",
      "metadata": {
        "id": "c8502047"
      },
      "source": [
        "## Q1: Create a Series with indexes = 1, 2, 3 and has three names."
      ]
    },
    {
      "cell_type": "code",
      "execution_count": 22,
      "id": "dc122631",
      "metadata": {
        "colab": {
          "base_uri": "https://localhost:8080/"
        },
        "id": "dc122631",
        "outputId": "90a7d917-3f4d-4953-fe5d-5862d857058e"
      },
      "outputs": [
        {
          "output_type": "stream",
          "name": "stdout",
          "text": [
            "1     Rana\n",
            "2    Fahad\n",
            "3     Nouf\n",
            "dtype: object\n"
          ]
        }
      ],
      "source": [
        "data = ['Rana', 'Fahad', 'Nouf']\n",
        "series = pd.Series(data, index=[1, 2, 3])\n",
        "print(series)"
      ]
    },
    {
      "cell_type": "markdown",
      "id": "443e73f6",
      "metadata": {
        "id": "443e73f6"
      },
      "source": [
        "## Q2: Change indexes to 11, 12, 13."
      ]
    },
    {
      "cell_type": "code",
      "execution_count": 23,
      "id": "ae224dba",
      "metadata": {
        "colab": {
          "base_uri": "https://localhost:8080/"
        },
        "id": "ae224dba",
        "outputId": "709d0997-1480-430d-822e-bd4d4d03259e"
      },
      "outputs": [
        {
          "output_type": "stream",
          "name": "stdout",
          "text": [
            "11     Rana\n",
            "12    Fahad\n",
            "13     Nouf\n",
            "dtype: object\n"
          ]
        }
      ],
      "source": [
        "series.index = [11, 12, 13]\n",
        "print(series)"
      ]
    },
    {
      "cell_type": "markdown",
      "id": "7f562099",
      "metadata": {
        "id": "7f562099"
      },
      "source": [
        "## Q3: Retrieve First and second elements."
      ]
    },
    {
      "cell_type": "code",
      "execution_count": 24,
      "id": "bbe9dee3",
      "metadata": {
        "colab": {
          "base_uri": "https://localhost:8080/"
        },
        "id": "bbe9dee3",
        "outputId": "997c34bf-bb13-4c84-b1ff-e90b60047044"
      },
      "outputs": [
        {
          "output_type": "stream",
          "name": "stdout",
          "text": [
            "Rana\n",
            "Fahad\n"
          ]
        }
      ],
      "source": [
        "first_element = series[11]\n",
        "second_element = series[12]\n",
        "print(first_element)\n",
        "print(second_element)"
      ]
    },
    {
      "cell_type": "markdown",
      "id": "c771754d",
      "metadata": {
        "id": "c771754d"
      },
      "source": [
        "## Q4: Add duplicate elements, then remove the duplication."
      ]
    },
    {
      "cell_type": "code",
      "execution_count": 25,
      "id": "cf5a1d1a",
      "metadata": {
        "colab": {
          "base_uri": "https://localhost:8080/"
        },
        "id": "cf5a1d1a",
        "outputId": "b5da6663-d8a5-4221-c18b-094ae8f5acf1"
      },
      "outputs": [
        {
          "output_type": "stream",
          "name": "stdout",
          "text": [
            "11     Rana\n",
            "12    Fahad\n",
            "13     Nouf\n",
            "0      Rana\n",
            "1     Fahad\n",
            "dtype: object\n"
          ]
        },
        {
          "output_type": "stream",
          "name": "stderr",
          "text": [
            "<ipython-input-25-1aaf365dbdb6>:1: FutureWarning: The series.append method is deprecated and will be removed from pandas in a future version. Use pandas.concat instead.\n",
            "  series = series.append(pd.Series(['Rana', 'Fahad']))\n"
          ]
        }
      ],
      "source": [
        "series = series.append(pd.Series(['Rana', 'Fahad']))\n",
        "print(series)"
      ]
    },
    {
      "cell_type": "code",
      "source": [
        "series = series.drop_duplicates()\n",
        "print(series)"
      ],
      "metadata": {
        "colab": {
          "base_uri": "https://localhost:8080/"
        },
        "id": "oZsMjg-mTvMC",
        "outputId": "0929eab1-4ac1-4cc2-b940-b4ec6bee6111"
      },
      "id": "oZsMjg-mTvMC",
      "execution_count": 26,
      "outputs": [
        {
          "output_type": "stream",
          "name": "stdout",
          "text": [
            "11     Rana\n",
            "12    Fahad\n",
            "13     Nouf\n",
            "dtype: object\n"
          ]
        }
      ]
    },
    {
      "cell_type": "markdown",
      "id": "329164fe",
      "metadata": {
        "id": "329164fe"
      },
      "source": [
        "## Q5: Create a Students DataFrame has three columns (ID, Name, GPA)."
      ]
    },
    {
      "cell_type": "code",
      "execution_count": 27,
      "id": "873e1727",
      "metadata": {
        "colab": {
          "base_uri": "https://localhost:8080/"
        },
        "id": "873e1727",
        "outputId": "e8f3bcd9-31c0-4339-e7d4-ffcff1253820"
      },
      "outputs": [
        {
          "output_type": "stream",
          "name": "stdout",
          "text": [
            "   ID   Name  GPA\n",
            "0   1   Rana  4.8\n",
            "1   2  Fahad  4.5\n",
            "2   3   Nouf  3.5\n"
          ]
        }
      ],
      "source": [
        "data = {'ID': [1, 2, 3], 'Name': ['Rana', 'Fahad', 'Nouf'], 'GPA': [4.8, 4.5, 3.5]}\n",
        "df = pd.DataFrame(data)\n",
        "print(df)"
      ]
    },
    {
      "cell_type": "markdown",
      "id": "2808d244",
      "metadata": {
        "id": "2808d244"
      },
      "source": [
        "## Q6: Read educ_figdp_1_Data.csv file and print the head."
      ]
    },
    {
      "cell_type": "code",
      "execution_count": 28,
      "id": "3b0baf98",
      "metadata": {
        "colab": {
          "base_uri": "https://localhost:8080/"
        },
        "id": "3b0baf98",
        "outputId": "e2bd4efa-4fbf-494e-ec67-f6337da3180f"
      },
      "outputs": [
        {
          "output_type": "stream",
          "name": "stdout",
          "text": [
            "Drive already mounted at /content/drive; to attempt to forcibly remount, call drive.mount(\"/content/drive\", force_remount=True).\n",
            "/content/drive/MyDrive\n"
          ]
        }
      ],
      "source": [
        "from google.colab import drive\n",
        "drive.mount('/content/drive')\n",
        "\n",
        "%cd /content/drive/MyDrive"
      ]
    },
    {
      "cell_type": "code",
      "source": [
        "df = pd.read_csv('educ_figdp_1_Data.csv')\n",
        "df.head()"
      ],
      "metadata": {
        "colab": {
          "base_uri": "https://localhost:8080/",
          "height": 206
        },
        "id": "fnJnaK2EWqGH",
        "outputId": "27d3385d-5356-41a1-b323-a53bf468ea6c"
      },
      "id": "fnJnaK2EWqGH",
      "execution_count": 29,
      "outputs": [
        {
          "output_type": "execute_result",
          "data": {
            "text/plain": [
              "   TIME                            GEO  \\\n",
              "0  2000  European Union (28 countries)   \n",
              "1  2001  European Union (28 countries)   \n",
              "2  2002  European Union (28 countries)   \n",
              "3  2003  European Union (28 countries)   \n",
              "4  2004  European Union (28 countries)   \n",
              "\n",
              "                                            INDIC_ED Value Flag and Footnotes  \n",
              "0  Total public expenditure on education as % of ...     :                NaN  \n",
              "1  Total public expenditure on education as % of ...     :                NaN  \n",
              "2  Total public expenditure on education as % of ...  5.00                  e  \n",
              "3  Total public expenditure on education as % of ...  5.03                  e  \n",
              "4  Total public expenditure on education as % of ...  4.95                  e  "
            ],
            "text/html": [
              "\n",
              "  <div id=\"df-ba300759-575e-4865-9c6b-7c27065d45f1\" class=\"colab-df-container\">\n",
              "    <div>\n",
              "<style scoped>\n",
              "    .dataframe tbody tr th:only-of-type {\n",
              "        vertical-align: middle;\n",
              "    }\n",
              "\n",
              "    .dataframe tbody tr th {\n",
              "        vertical-align: top;\n",
              "    }\n",
              "\n",
              "    .dataframe thead th {\n",
              "        text-align: right;\n",
              "    }\n",
              "</style>\n",
              "<table border=\"1\" class=\"dataframe\">\n",
              "  <thead>\n",
              "    <tr style=\"text-align: right;\">\n",
              "      <th></th>\n",
              "      <th>TIME</th>\n",
              "      <th>GEO</th>\n",
              "      <th>INDIC_ED</th>\n",
              "      <th>Value</th>\n",
              "      <th>Flag and Footnotes</th>\n",
              "    </tr>\n",
              "  </thead>\n",
              "  <tbody>\n",
              "    <tr>\n",
              "      <th>0</th>\n",
              "      <td>2000</td>\n",
              "      <td>European Union (28 countries)</td>\n",
              "      <td>Total public expenditure on education as % of ...</td>\n",
              "      <td>:</td>\n",
              "      <td>NaN</td>\n",
              "    </tr>\n",
              "    <tr>\n",
              "      <th>1</th>\n",
              "      <td>2001</td>\n",
              "      <td>European Union (28 countries)</td>\n",
              "      <td>Total public expenditure on education as % of ...</td>\n",
              "      <td>:</td>\n",
              "      <td>NaN</td>\n",
              "    </tr>\n",
              "    <tr>\n",
              "      <th>2</th>\n",
              "      <td>2002</td>\n",
              "      <td>European Union (28 countries)</td>\n",
              "      <td>Total public expenditure on education as % of ...</td>\n",
              "      <td>5.00</td>\n",
              "      <td>e</td>\n",
              "    </tr>\n",
              "    <tr>\n",
              "      <th>3</th>\n",
              "      <td>2003</td>\n",
              "      <td>European Union (28 countries)</td>\n",
              "      <td>Total public expenditure on education as % of ...</td>\n",
              "      <td>5.03</td>\n",
              "      <td>e</td>\n",
              "    </tr>\n",
              "    <tr>\n",
              "      <th>4</th>\n",
              "      <td>2004</td>\n",
              "      <td>European Union (28 countries)</td>\n",
              "      <td>Total public expenditure on education as % of ...</td>\n",
              "      <td>4.95</td>\n",
              "      <td>e</td>\n",
              "    </tr>\n",
              "  </tbody>\n",
              "</table>\n",
              "</div>\n",
              "    <div class=\"colab-df-buttons\">\n",
              "\n",
              "  <div class=\"colab-df-container\">\n",
              "    <button class=\"colab-df-convert\" onclick=\"convertToInteractive('df-ba300759-575e-4865-9c6b-7c27065d45f1')\"\n",
              "            title=\"Convert this dataframe to an interactive table.\"\n",
              "            style=\"display:none;\">\n",
              "\n",
              "  <svg xmlns=\"http://www.w3.org/2000/svg\" height=\"24px\" viewBox=\"0 -960 960 960\">\n",
              "    <path d=\"M120-120v-720h720v720H120Zm60-500h600v-160H180v160Zm220 220h160v-160H400v160Zm0 220h160v-160H400v160ZM180-400h160v-160H180v160Zm440 0h160v-160H620v160ZM180-180h160v-160H180v160Zm440 0h160v-160H620v160Z\"/>\n",
              "  </svg>\n",
              "    </button>\n",
              "\n",
              "  <style>\n",
              "    .colab-df-container {\n",
              "      display:flex;\n",
              "      gap: 12px;\n",
              "    }\n",
              "\n",
              "    .colab-df-convert {\n",
              "      background-color: #E8F0FE;\n",
              "      border: none;\n",
              "      border-radius: 50%;\n",
              "      cursor: pointer;\n",
              "      display: none;\n",
              "      fill: #1967D2;\n",
              "      height: 32px;\n",
              "      padding: 0 0 0 0;\n",
              "      width: 32px;\n",
              "    }\n",
              "\n",
              "    .colab-df-convert:hover {\n",
              "      background-color: #E2EBFA;\n",
              "      box-shadow: 0px 1px 2px rgba(60, 64, 67, 0.3), 0px 1px 3px 1px rgba(60, 64, 67, 0.15);\n",
              "      fill: #174EA6;\n",
              "    }\n",
              "\n",
              "    .colab-df-buttons div {\n",
              "      margin-bottom: 4px;\n",
              "    }\n",
              "\n",
              "    [theme=dark] .colab-df-convert {\n",
              "      background-color: #3B4455;\n",
              "      fill: #D2E3FC;\n",
              "    }\n",
              "\n",
              "    [theme=dark] .colab-df-convert:hover {\n",
              "      background-color: #434B5C;\n",
              "      box-shadow: 0px 1px 3px 1px rgba(0, 0, 0, 0.15);\n",
              "      filter: drop-shadow(0px 1px 2px rgba(0, 0, 0, 0.3));\n",
              "      fill: #FFFFFF;\n",
              "    }\n",
              "  </style>\n",
              "\n",
              "    <script>\n",
              "      const buttonEl =\n",
              "        document.querySelector('#df-ba300759-575e-4865-9c6b-7c27065d45f1 button.colab-df-convert');\n",
              "      buttonEl.style.display =\n",
              "        google.colab.kernel.accessAllowed ? 'block' : 'none';\n",
              "\n",
              "      async function convertToInteractive(key) {\n",
              "        const element = document.querySelector('#df-ba300759-575e-4865-9c6b-7c27065d45f1');\n",
              "        const dataTable =\n",
              "          await google.colab.kernel.invokeFunction('convertToInteractive',\n",
              "                                                    [key], {});\n",
              "        if (!dataTable) return;\n",
              "\n",
              "        const docLinkHtml = 'Like what you see? Visit the ' +\n",
              "          '<a target=\"_blank\" href=https://colab.research.google.com/notebooks/data_table.ipynb>data table notebook</a>'\n",
              "          + ' to learn more about interactive tables.';\n",
              "        element.innerHTML = '';\n",
              "        dataTable['output_type'] = 'display_data';\n",
              "        await google.colab.output.renderOutput(dataTable, element);\n",
              "        const docLink = document.createElement('div');\n",
              "        docLink.innerHTML = docLinkHtml;\n",
              "        element.appendChild(docLink);\n",
              "      }\n",
              "    </script>\n",
              "  </div>\n",
              "\n",
              "\n",
              "<div id=\"df-b17be805-35b9-4c56-a4dd-495b47d3eaf7\">\n",
              "  <button class=\"colab-df-quickchart\" onclick=\"quickchart('df-b17be805-35b9-4c56-a4dd-495b47d3eaf7')\"\n",
              "            title=\"Suggest charts.\"\n",
              "            style=\"display:none;\">\n",
              "\n",
              "<svg xmlns=\"http://www.w3.org/2000/svg\" height=\"24px\"viewBox=\"0 0 24 24\"\n",
              "     width=\"24px\">\n",
              "    <g>\n",
              "        <path d=\"M19 3H5c-1.1 0-2 .9-2 2v14c0 1.1.9 2 2 2h14c1.1 0 2-.9 2-2V5c0-1.1-.9-2-2-2zM9 17H7v-7h2v7zm4 0h-2V7h2v10zm4 0h-2v-4h2v4z\"/>\n",
              "    </g>\n",
              "</svg>\n",
              "  </button>\n",
              "\n",
              "<style>\n",
              "  .colab-df-quickchart {\n",
              "      --bg-color: #E8F0FE;\n",
              "      --fill-color: #1967D2;\n",
              "      --hover-bg-color: #E2EBFA;\n",
              "      --hover-fill-color: #174EA6;\n",
              "      --disabled-fill-color: #AAA;\n",
              "      --disabled-bg-color: #DDD;\n",
              "  }\n",
              "\n",
              "  [theme=dark] .colab-df-quickchart {\n",
              "      --bg-color: #3B4455;\n",
              "      --fill-color: #D2E3FC;\n",
              "      --hover-bg-color: #434B5C;\n",
              "      --hover-fill-color: #FFFFFF;\n",
              "      --disabled-bg-color: #3B4455;\n",
              "      --disabled-fill-color: #666;\n",
              "  }\n",
              "\n",
              "  .colab-df-quickchart {\n",
              "    background-color: var(--bg-color);\n",
              "    border: none;\n",
              "    border-radius: 50%;\n",
              "    cursor: pointer;\n",
              "    display: none;\n",
              "    fill: var(--fill-color);\n",
              "    height: 32px;\n",
              "    padding: 0;\n",
              "    width: 32px;\n",
              "  }\n",
              "\n",
              "  .colab-df-quickchart:hover {\n",
              "    background-color: var(--hover-bg-color);\n",
              "    box-shadow: 0 1px 2px rgba(60, 64, 67, 0.3), 0 1px 3px 1px rgba(60, 64, 67, 0.15);\n",
              "    fill: var(--button-hover-fill-color);\n",
              "  }\n",
              "\n",
              "  .colab-df-quickchart-complete:disabled,\n",
              "  .colab-df-quickchart-complete:disabled:hover {\n",
              "    background-color: var(--disabled-bg-color);\n",
              "    fill: var(--disabled-fill-color);\n",
              "    box-shadow: none;\n",
              "  }\n",
              "\n",
              "  .colab-df-spinner {\n",
              "    border: 2px solid var(--fill-color);\n",
              "    border-color: transparent;\n",
              "    border-bottom-color: var(--fill-color);\n",
              "    animation:\n",
              "      spin 1s steps(1) infinite;\n",
              "  }\n",
              "\n",
              "  @keyframes spin {\n",
              "    0% {\n",
              "      border-color: transparent;\n",
              "      border-bottom-color: var(--fill-color);\n",
              "      border-left-color: var(--fill-color);\n",
              "    }\n",
              "    20% {\n",
              "      border-color: transparent;\n",
              "      border-left-color: var(--fill-color);\n",
              "      border-top-color: var(--fill-color);\n",
              "    }\n",
              "    30% {\n",
              "      border-color: transparent;\n",
              "      border-left-color: var(--fill-color);\n",
              "      border-top-color: var(--fill-color);\n",
              "      border-right-color: var(--fill-color);\n",
              "    }\n",
              "    40% {\n",
              "      border-color: transparent;\n",
              "      border-right-color: var(--fill-color);\n",
              "      border-top-color: var(--fill-color);\n",
              "    }\n",
              "    60% {\n",
              "      border-color: transparent;\n",
              "      border-right-color: var(--fill-color);\n",
              "    }\n",
              "    80% {\n",
              "      border-color: transparent;\n",
              "      border-right-color: var(--fill-color);\n",
              "      border-bottom-color: var(--fill-color);\n",
              "    }\n",
              "    90% {\n",
              "      border-color: transparent;\n",
              "      border-bottom-color: var(--fill-color);\n",
              "    }\n",
              "  }\n",
              "</style>\n",
              "\n",
              "  <script>\n",
              "    async function quickchart(key) {\n",
              "      const quickchartButtonEl =\n",
              "        document.querySelector('#' + key + ' button');\n",
              "      quickchartButtonEl.disabled = true;  // To prevent multiple clicks.\n",
              "      quickchartButtonEl.classList.add('colab-df-spinner');\n",
              "      try {\n",
              "        const charts = await google.colab.kernel.invokeFunction(\n",
              "            'suggestCharts', [key], {});\n",
              "      } catch (error) {\n",
              "        console.error('Error during call to suggestCharts:', error);\n",
              "      }\n",
              "      quickchartButtonEl.classList.remove('colab-df-spinner');\n",
              "      quickchartButtonEl.classList.add('colab-df-quickchart-complete');\n",
              "    }\n",
              "    (() => {\n",
              "      let quickchartButtonEl =\n",
              "        document.querySelector('#df-b17be805-35b9-4c56-a4dd-495b47d3eaf7 button');\n",
              "      quickchartButtonEl.style.display =\n",
              "        google.colab.kernel.accessAllowed ? 'block' : 'none';\n",
              "    })();\n",
              "  </script>\n",
              "</div>\n",
              "    </div>\n",
              "  </div>\n"
            ]
          },
          "metadata": {},
          "execution_count": 29
        }
      ]
    },
    {
      "cell_type": "markdown",
      "id": "34574733",
      "metadata": {
        "id": "34574733"
      },
      "source": [
        "## Q7: Give an example shows the difference between loc and slicing?\n",
        "**Note:**\n",
        "- loc use the index labels as references.\n",
        "- slice use the position as references."
      ]
    },
    {
      "cell_type": "code",
      "execution_count": 30,
      "id": "0d5876f7",
      "metadata": {
        "colab": {
          "base_uri": "https://localhost:8080/"
        },
        "id": "0d5876f7",
        "outputId": "07b7a832-a06e-4f78-b074-a2647b7aecf8"
      },
      "outputs": [
        {
          "output_type": "stream",
          "name": "stdout",
          "text": [
            "1    B\n",
            "2    C\n",
            "3    D\n",
            "dtype: object\n",
            "1    B\n",
            "2    C\n",
            "dtype: object\n"
          ]
        }
      ],
      "source": [
        "data = ['A', 'B', 'C', 'D', 'E']\n",
        "series = pd.Series(data)\n",
        "\n",
        "# Using loc\n",
        "print(series.loc[1:3])  # loc includes both the start and end index\n",
        "\n",
        "# Using slicing\n",
        "print(series[1:3])  # slicing excludes the end index"
      ]
    }
  ],
  "metadata": {
    "kernelspec": {
      "display_name": "Python 3 (ipykernel)",
      "language": "python",
      "name": "python3"
    },
    "language_info": {
      "codemirror_mode": {
        "name": "ipython",
        "version": 3
      },
      "file_extension": ".py",
      "mimetype": "text/x-python",
      "name": "python",
      "nbconvert_exporter": "python",
      "pygments_lexer": "ipython3",
      "version": "3.9.12"
    },
    "colab": {
      "provenance": []
    }
  },
  "nbformat": 4,
  "nbformat_minor": 5
}